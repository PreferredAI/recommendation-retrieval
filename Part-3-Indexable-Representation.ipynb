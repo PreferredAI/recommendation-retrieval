{
 "cells": [
  {
   "cell_type": "markdown",
   "metadata": {},
   "source": [
    "# Indexable Representation Learning"
   ]
  },
  {
   "cell_type": "markdown",
   "metadata": {},
   "source": [
    "As mentioned in the presentation, indexable representation refers to recommendation algorihtms whose latent vector representations are immediately sublinear searchable. In this tutorial, we are going to experiment with one of such models, namely Indexable Bayesian Personalized Ranking or IBPR for short."
   ]
  },
  {
   "cell_type": "code",
   "execution_count": 1,
   "metadata": {},
   "outputs": [],
   "source": [
    "%matplotlib inline\n",
    "import numpy as np\n",
    "import time\n",
    "import pickle\n",
    "import matplotlib.pyplot as plt\n",
    "import scipy.sparse as ss\n",
    "\n",
    "from cornac.eval_methods import BaseMethod\n",
    "from cornac.models import BPR, IBPR\n",
    "from utils.lsh import *\n",
    "from utils.load_data import *\n",
    "from utils.pmf import *\n",
    "from utils.evaluation import *"
   ]
  },
  {
   "cell_type": "markdown",
   "metadata": {},
   "source": [
    "## Load the train/test data"
   ]
  },
  {
   "cell_type": "code",
   "execution_count": 3,
   "metadata": {},
   "outputs": [],
   "source": [
    "train   = pickle.load(open('train_data', 'rb'))\n",
    "test    = pickle.load(open('test_data', 'rb'))"
   ]
  },
  {
   "cell_type": "code",
   "execution_count": 4,
   "metadata": {},
   "outputs": [
    {
     "name": "stdout",
     "output_type": "stream",
     "text": [
      "rating_threshold = 1.0\n",
      "exclude_unknowns = False\n",
      "Building training set\n",
      "Number of training users = 6040\n",
      "Number of training items = 3653\n",
      "Max rating = 5.0\n",
      "Min rating = 1.0\n",
      "Global mean = 3.6\n",
      "Building test set\n",
      "Number of tested users = 6040\n",
      "Number of unknown users = 0\n",
      "Number of unknown items = 53\n"
     ]
    }
   ],
   "source": [
    "eval_method = BaseMethod.from_provided(train_data=train, test_data=test,\n",
    "                                       exclude_unknowns=False, verbose=True)"
   ]
  },
  {
   "cell_type": "markdown",
   "metadata": {},
   "source": [
    "## Bayesian Personalized Ranking - BPR\n",
    "\n",
    "We first measure the performance both after learning and after indexing of BPR model. Details of the paper can be found in the following link: [BPR-paper](https://arxiv.org/ftp/arxiv/papers/1205/1205.2618.pdf).\n",
    "\n",
    "\n",
    "<img src='resources/images/bpr.png' width = 700>\n",
    "\n"
   ]
  },
  {
   "cell_type": "code",
   "execution_count": null,
   "metadata": {},
   "outputs": [
    {
     "name": "stdout",
     "output_type": "stream",
     "text": [
      "Shafling the data\n",
      "epoch: 0 loss: tensor(26494.1270, grad_fn=<ThSubBackward>)\n"
     ]
    }
   ],
   "source": [
    "rec_bpr = BPR(k = 100, max_iter=50, learning_rate=0.01, lamda=0.001, batch_size=5000, init_params={'U':None, 'V':None})\n",
    "rec_bpr.fit(eval_method.train_set)\n",
    "\n",
    "pickle.dump(rec_bpr, open('bpr.model', 'wb'))\n",
    "#rec_bpr = pickle.load(rec_bpr, open('bpr.model', 'rb'))"
   ]
  },
  {
   "cell_type": "code",
   "execution_count": null,
   "metadata": {},
   "outputs": [],
   "source": [
    "#number of recommendations\n",
    "topK = 10\n",
    "\n",
    "queries = rec_bpr.U[1:1000,:]\n",
    "data    = rec_bpr.V\n",
    "\n",
    "M = np.linalg.norm(data, axis=1)\n",
    "max_norm = max(M)\n",
    "q_norm = np.sqrt((queries * queries).sum(axis=1))\n",
    "n_queries = queries/q_norm.reshape(queries.shape[0], 1)\n",
    "\n",
    "n_data = np.concatenate((data, np.sqrt(max_norm**2 - pow(M, 2)).reshape(data.shape[0], -1)), axis = 1)\n",
    "n_data = n_data/max_norm # normalized data vectors\n",
    "n_queries = np.concatenate((n_queries, np.zeros((n_queries.shape[0], 1))), axis = 1)\n",
    "        \n",
    "bpr_prec, bpr_recall = evaluate_topK(test, data, queries, topK)\n",
    "print('bpr_prec@{0} \\t bpr_recall@{0}'.format(topK))\n",
    "print('{0}\\t{1}'.format(bpr_prec, bpr_recall))\n",
    "print('-----------------------------------------------------------------------')\n",
    "\n",
    "topK = 10\n",
    "b_vals = [4]\n",
    "L_vals = [10]\n",
    "\n",
    "print('#table\\t #bit \\t relative_prec@{0} \\t relative_recall@{0} \\t touched'.format(topK))\n",
    "for nt in L_vals:\n",
    "    print('-----------------------------------------------------------------------')\n",
    "    for b in b_vals: \n",
    "        prec, recall, touched = evaluate_LSHTopK(test, n_data, - n_queries, CosineHashFamily, nt, b, dot, topK)\n",
    "        print(\"{0}\\t{1}\\t{2}\\t{3}\\t{4}\".format(nt, b, prec/bpr_prec, recall/bpr_recall, touched)) \n"
   ]
  },
  {
   "cell_type": "markdown",
   "metadata": {},
   "source": [
    "## Indexable Bayesian Personalized Ranking - IBPR\n",
    "\n",
    "We will test the effectiveness of indexable model here. In this experiment, we train IBPR with the same data we use for BPR above. Details of the paper can be found in the following link: [IBPR-paper](https://ink.library.smu.edu.sg/sis_research/3884/)\n",
    "\n",
    "<img src='resources/images/ibpr.png' width=700>\n",
    "\n"
   ]
  },
  {
   "cell_type": "code",
   "execution_count": null,
   "metadata": {},
   "outputs": [],
   "source": [
    "rec_ibpr = IBPR(k = 100, max_iter=50, learning_rate=0.01, lamda=0.001, batch_size=5000, init_params={'U':None, 'V':None})\n",
    "rec_ibpr.fit(eval_method.train_set)\n",
    "\n",
    "pickle.dump(rec_ibpr, open('ibpr.model', 'wb'))\n",
    "#rec_ibpr = pickle.load(open('ibpr.model', 'rb'))"
   ]
  },
  {
   "cell_type": "code",
   "execution_count": null,
   "metadata": {},
   "outputs": [],
   "source": [
    "#number of recommendations\n",
    "topK = 10\n",
    "\n",
    "queries = rec_ibpr.U[1:1000, :]\n",
    "data    = rec_ibpr.V\n",
    "\n",
    "ibpr_prec, ibpr_recall = evaluate_topK(test, data, queries, topK)\n",
    "print('ibpr_prec@{0} \\t ibpr_recall@{0}'.format(topK))\n",
    "print('{0}\\t{1}'.format(ibpr_prec, ibpr_recall))\n",
    "print('-----------------------------------------------------------------------')\n",
    "\n",
    "topK = 10\n",
    "b_vals = [4]\n",
    "L_vals = [10]\n",
    "\n",
    "print('#table\\t #bit \\t relative_prec@{0} \\t relative_recall@{0} \\t touched'.format(topK))\n",
    "for nt in L_vals:\n",
    "    print('-----------------------------------------------------------------------')\n",
    "    for b in b_vals: \n",
    "        prec, recall, touched = evaluate_LSHTopK(test, data, -queries, CosineHashFamily, nt, b, dot, topK)\n",
    "        print(\"{0}\\t{1}\\t{2}\\t{3}\\t{4}\".format(nt, b, prec/ibpr_prec, recall/ibpr_recall, touched)) "
   ]
  },
  {
   "cell_type": "code",
   "execution_count": null,
   "metadata": {
    "collapsed": true
   },
   "outputs": [],
   "source": []
  }
 ],
 "metadata": {
  "kernelspec": {
   "display_name": "Python 3",
   "language": "python",
   "name": "python3"
  },
  "language_info": {
   "codemirror_mode": {
    "name": "ipython",
    "version": 3
   },
   "file_extension": ".py",
   "mimetype": "text/x-python",
   "name": "python",
   "nbconvert_exporter": "python",
   "pygments_lexer": "ipython3",
   "version": "3.6.6"
  }
 },
 "nbformat": 4,
 "nbformat_minor": 1
}
