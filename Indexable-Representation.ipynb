{
 "cells": [
  {
   "cell_type": "markdown",
   "metadata": {},
   "source": [
    "# Indexable Representation Learning"
   ]
  },
  {
   "cell_type": "markdown",
   "metadata": {},
   "source": [
    "As mentioned in the presentation, indexable representation refers to recommendation algorihtms whose latent vector representations are immediately sublinear searchable. In this tutorial, we are going to experiment with one of such models, namely Indexable Bayesian Personalized Ranking or IBPR for short."
   ]
  },
  {
   "cell_type": "code",
   "execution_count": 1,
   "metadata": {
    "collapsed": true
   },
   "outputs": [],
   "source": [
    "%matplotlib inline\n",
    "import numpy as np\n",
    "import time\n",
    "import pickle\n",
    "import matplotlib.pyplot as plt\n",
    "import scipy.sparse as ss\n",
    "\n",
    "from cornac.eval_methods import BaseMethod\n",
    "from cornac.models import BPR, IBPR\n",
    "from utils.lsh import *\n",
    "from utils.load_data import *\n",
    "from utils.pmf import *\n",
    "from utils.evaluation import *"
   ]
  },
  {
   "cell_type": "code",
   "execution_count": 2,
   "metadata": {
    "collapsed": true
   },
   "outputs": [],
   "source": [
    "train   = pickle.load(open('train_data', 'rb'))\n",
    "test    = pickle.load(open('test_data', 'rb'))"
   ]
  },
  {
   "cell_type": "code",
   "execution_count": 3,
   "metadata": {
    "collapsed": false
   },
   "outputs": [
    {
     "name": "stdout",
     "output_type": "stream",
     "text": [
      "rating_threshold = 1.0\n",
      "exclude_unknowns = False\n",
      "Building training set\n",
      "Number of training users = 6040\n",
      "Number of training items = 3659\n",
      "Max rating = 5.0\n",
      "Min rating = 1.0\n",
      "Global mean = 3.6\n",
      "Building test set\n",
      "Number of tested users = 6040\n",
      "Number of unknown users = 0\n",
      "Number of unknown items = 47\n"
     ]
    }
   ],
   "source": [
    "eval_method = BaseMethod.from_provided(train_data=train, test_data=test,\n",
    "                                       exclude_unknowns=False, verbose=True)"
   ]
  },
  {
   "cell_type": "code",
   "execution_count": 4,
   "metadata": {
    "collapsed": false
   },
   "outputs": [
    {
     "name": "stdout",
     "output_type": "stream",
     "text": [
      "Shafling the data\n",
      "epoch: 0 loss: tensor(5307.4399, grad_fn=<ThSubBackward>)\n"
     ]
    }
   ],
   "source": [
    "rec_bpr = BPR(k = 50, max_iter=50, learning_rate=0.05, lamda=0.001, batch_size=5000, init_params={'U':None, 'V':None})\n",
    "rec_bpr.fit(eval_method.train_set)\n",
    "\n",
    "pickle.dump(rec_bpr, open('bpr.model', 'wb'))\n",
    "#rec_bpr = pickle.load(rec_bpr, open('bpr.model', 'rb'))"
   ]
  },
  {
   "cell_type": "code",
   "execution_count": 6,
   "metadata": {
    "collapsed": false
   },
   "outputs": [
    {
     "name": "stdout",
     "output_type": "stream",
     "text": [
      "bpr_prec@10 \t bpr_recall@10\n",
      "0.013344370860927147\t0.002546935131049344\n",
      "#table\t #bit \t relative_prec@10 \t relative_recall@10 \t touched\n",
      "-----------------------------------------------------------------------\n",
      "10\t4\t0.9292803970223333\t0.9344277772763477\t0.46731057774624485\n"
     ]
    }
   ],
   "source": [
    "#number of recommendations\n",
    "topK = 10\n",
    "\n",
    "#construct the recommendation list\n",
    "inv_lst = np.unique(test[:, 0]).astype(int)\n",
    "bpr_rec_list = {}\n",
    "for inv in inv_lst:\n",
    "    if bpr_rec_list.get(inv, None) is None:\n",
    "        bpr_rec_list[inv] = rec_bpr.rank(inv)[:topK]\n",
    "        \n",
    "bpr_prec, bpr_recall = evaluate_topK(test, bpr_rec_list, topK)\n",
    "print('bpr_prec@{0} \\t bpr_recall@{0}'.format(topK))\n",
    "print('{0}\\t{1}'.format(bpr_prec, bpr_recall))\n",
    "print('-----------------------------------------------------------------------')\n",
    "\n",
    "topK = 10\n",
    "b_vals = [4]\n",
    "L_vals = [10]\n",
    "\n",
    "queries = rec_bpr.U\n",
    "data    = rec_bpr.V\n",
    "\n",
    "print('#table\\t #bit \\t relative_prec@{0} \\t relative_recall@{0} \\t touched'.format(topK))\n",
    "for nt in L_vals:\n",
    "    print('-----------------------------------------------------------------------')\n",
    "    for b in b_vals: \n",
    "        prec, recall, touched = evaluate_LSHTopK(test, data, -queries, CosineHashFamily, nt, b, dot, topK)\n",
    "        print(\"{0}\\t{1}\\t{2}\\t{3}\\t{4}\".format(nt, b, prec/bpr_prec, recall/bpr_recall, touched)) \n"
   ]
  },
  {
   "cell_type": "code",
   "execution_count": 6,
   "metadata": {
    "collapsed": false
   },
   "outputs": [
    {
     "name": "stdout",
     "output_type": "stream",
     "text": [
      "Shafling the data\n",
      "epoch: 0 loss: tensor(3612.6685, grad_fn=<ThSubBackward>)\n"
     ]
    }
   ],
   "source": [
    "rec_ibpr = IBPR(k = 50, max_iter=50, learning_rate=0.05, lamda=0.001, batch_size=5000, init_params={'U':None, 'V':None})\n",
    "rec_ibpr.fit(eval_method.train_set)\n",
    "\n",
    "pickle.dump(rec_ibpr, open('ibpr.model', 'wb'))\n",
    "#rec_ibpr = pickle.load(open('ibpr.model', 'rb'))"
   ]
  },
  {
   "cell_type": "code",
   "execution_count": null,
   "metadata": {
    "collapsed": false
   },
   "outputs": [
    {
     "name": "stdout",
     "output_type": "stream",
     "text": [
      "ibpr_prec@10 \t ibpr_recall@10\n",
      "0.013112582781456928\t0.0025468861595255837\n",
      "-----------------------------------------------------------------------\n",
      "#table\t #bit \t relative_prec@10 \t relative_recall@10 \t touched\n",
      "-----------------------------------------------------------------------\n"
     ]
    }
   ],
   "source": [
    "#number of recommendations\n",
    "topK = 10\n",
    "\n",
    "#construct the recommendation list\n",
    "inv_lst = np.unique(test[:, 0]).astype(int)\n",
    "ibpr_rec_list = {}\n",
    "for inv in inv_lst:\n",
    "    if ibpr_rec_list.get(inv, None) is None:\n",
    "        ibpr_rec_list[inv] = rec_ibpr.rank(inv)[:topK]\n",
    "        \n",
    "ibpr_prec, ibpr_recall = evaluate_topK(test, ibpr_rec_list, topK)\n",
    "print('ibpr_prec@{0} \\t ibpr_recall@{0}'.format(topK))\n",
    "print('{0}\\t{1}'.format(ibpr_prec, ibpr_recall))\n",
    "print('-----------------------------------------------------------------------')\n",
    "\n",
    "topK = 10\n",
    "b_vals = [4]\n",
    "L_vals = [10]\n",
    "\n",
    "queries = rec_ibpr.U\n",
    "data    = rec_ibpr.V\n",
    "\n",
    "print('#table\\t #bit \\t relative_prec@{0} \\t relative_recall@{0} \\t touched'.format(topK))\n",
    "for nt in L_vals:\n",
    "    print('-----------------------------------------------------------------------')\n",
    "    for b in b_vals: \n",
    "        prec, recall, touched = evaluate_LSHTopK(test, data, -queries, CosineHashFamily, nt, b, dot, topK)\n",
    "        print(\"{0}\\t{1}\\t{2}\\t{3}\\t{4}\".format(nt, b, prec/ibpr_prec, recall/ibpr_recall, touched)) "
   ]
  },
  {
   "cell_type": "code",
   "execution_count": null,
   "metadata": {
    "collapsed": true
   },
   "outputs": [],
   "source": []
  }
 ],
 "metadata": {
  "kernelspec": {
   "display_name": "Python 3",
   "language": "python",
   "name": "python3"
  },
  "language_info": {
   "codemirror_mode": {
    "name": "ipython",
    "version": 3
   },
   "file_extension": ".py",
   "mimetype": "text/x-python",
   "name": "python",
   "nbconvert_exporter": "python",
   "pygments_lexer": "ipython3",
   "version": "3.6.0"
  }
 },
 "nbformat": 4,
 "nbformat_minor": 1
}
